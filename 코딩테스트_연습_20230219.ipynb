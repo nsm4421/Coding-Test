{
 "cells": [
  {
   "attachments": {},
   "cell_type": "markdown",
   "metadata": {},
   "source": [
    "https://sddkarma.tistory.com/51"
   ]
  },
  {
   "attachments": {},
   "cell_type": "markdown",
   "metadata": {},
   "source": [
    "https://www.acmicpc.net/problem/2667"
   ]
  },
  {
   "cell_type": "code",
   "execution_count": null,
   "metadata": {},
   "outputs": [],
   "source": [
    "from collections import deque\n",
    "\n",
    "N = int(input())\n",
    "graph = []\n",
    "for i in range(N):\n",
    "    graph.append(list(map(int, input())))\n",
    "    \n",
    "dx, dy = [1,-1,0,0], [0,0,1,-1]\n",
    "\n",
    "def bfs(g, r, c):\n",
    "    N = len(g)\n",
    "    q = deque([(r, c)])\n",
    "    g[r][c] = 0\n",
    "    cnt = 1    \n",
    "    while q:\n",
    "        x, y = q.popleft()\n",
    "        for i in range(4):\n",
    "            nx = x + dx[i]\n",
    "            ny = y + dy[i]\n",
    "            if nx<0 or N<=nx or ny<0 or N<=ny:\n",
    "                continue\n",
    "            if g[nx][ny] == 1:\n",
    "                cnt += 1\n",
    "                g[nx][ny] = 0\n",
    "                q.append((nx, ny))\n",
    "    return cnt\n",
    "\n",
    "cnt_lst = []    \n",
    "for i in range(N):\n",
    "    for j in range(N):\n",
    "        if graph[i][j] == 1:\n",
    "            cnt_lst.append(bfs(graph, i, j))\n",
    "            \n",
    "cnt_lst.sort()\n",
    "print(len(cnt_lst))\n",
    "for c in cnt_lst:\n",
    "    print(c)"
   ]
  },
  {
   "attachments": {},
   "cell_type": "markdown",
   "metadata": {},
   "source": [
    "https://www.acmicpc.net/problem/11724"
   ]
  },
  {
   "cell_type": "code",
   "execution_count": null,
   "metadata": {},
   "outputs": [],
   "source": [
    "from collections import deque\n",
    "\n",
    "N, M = map(int, input().split())\n",
    "graph = [[] for _ in range(N+1)]\n",
    "visited = [False]*(N+1)\n",
    "cnt = 0\n",
    "\n",
    "for _ in range(M):\n",
    "    u, v = map(int, input().split())\n",
    "    graph[u].append(v)\n",
    "    graph[v].append(u)\n",
    "\n",
    "def bfs(start):\n",
    "    q = deque([start])\n",
    "    visited[start] = True\n",
    "    while q:\n",
    "        node = q.popleft()\n",
    "        for adj_node in graph[node]:\n",
    "            if not visited[adj_node]:\n",
    "                visited[adj_node] = True\n",
    "                q.append(adj_node)\n",
    "      \n",
    "for node in range(1, N+1):\n",
    "    if visited[node]:\n",
    "        continue\n",
    "    visited[node] = True\n",
    "    cnt += 1\n",
    "    for adj_node in graph[node]:\n",
    "        bfs(adj_node)\n",
    "        \n",
    "print(cnt)\n",
    "    "
   ]
  },
  {
   "attachments": {},
   "cell_type": "markdown",
   "metadata": {},
   "source": [
    "https://www.acmicpc.net/problem/14502"
   ]
  },
  {
   "cell_type": "code",
   "execution_count": null,
   "metadata": {},
   "outputs": [],
   "source": [
    "from collections import deque\n",
    "import copy\n",
    "from itertools import combinations\n",
    "\n",
    "# 입력받기\n",
    "N, M = map(int, input().split())\n",
    "graph = []\n",
    "for _ in range(N):\n",
    "    graph.append(list(map(int, input().split())))\n",
    "\n",
    "# 바이러스 위치\n",
    "blank_position = []\n",
    "for i in range(N):\n",
    "    for j in range(M):\n",
    "        if graph[i][j] == 0:\n",
    "            blank_position.append((i, j))\n",
    "\n",
    "# 벽을 설치할 후보지 조합\n",
    "wall_candidates = combinations(blank_position, 3)\n",
    "\n",
    "# bfs\n",
    "dx, dy = [0,0,1,-1], [1,-1,0,0]\n",
    "def bfs(g):\n",
    "    q = deque()\n",
    "    # 초기 바이러스 장소 큐에 넣기\n",
    "    for i in range(N):\n",
    "        for j in range(M):\n",
    "            if g[i][j] == 2:\n",
    "                q.append((i, j))\n",
    "    # 바이러스 퍼트리기\n",
    "    while q:\n",
    "        x, y = q.popleft()\n",
    "        for i in range(4):\n",
    "            nx = x+dx[i]\n",
    "            ny = y+dy[i]\n",
    "            if nx<0 or N<=nx or ny<0 or M<=ny:\n",
    "                continue\n",
    "            if g[nx][ny] == 0:\n",
    "                g[nx][ny] = 2\n",
    "                q.append((nx, ny))\n",
    "\n",
    "max_safe_area = 0\n",
    "for walls in wall_candidates:\n",
    "    safe_area = 0\n",
    "    g = copy.deepcopy(graph)\n",
    "    # 벽설치\n",
    "    for p in walls:\n",
    "        g[p[0]][p[1]] = 1\n",
    "    # 바이러스 퍼짐\n",
    "    bfs(g)\n",
    "    # 안전지역 넓이 계산\n",
    "    for i in range(N):\n",
    "        for j in range(M):\n",
    "            if g[i][j] == 0:\n",
    "                safe_area += 1\n",
    "    max_safe_area = max(max_safe_area, safe_area)\n",
    "\n",
    "print(max_safe_area)"
   ]
  }
 ],
 "metadata": {
  "kernelspec": {
   "display_name": "Python 3",
   "language": "python",
   "name": "python3"
  },
  "language_info": {
   "codemirror_mode": {
    "name": "ipython",
    "version": 3
   },
   "file_extension": ".py",
   "mimetype": "text/x-python",
   "name": "python",
   "nbconvert_exporter": "python",
   "pygments_lexer": "ipython3",
   "version": "3.11.0"
  },
  "orig_nbformat": 4,
  "vscode": {
   "interpreter": {
    "hash": "32df5254c7609d39388f8b8f08e6015f48a9463c6a0c4546003aabaa7af46eef"
   }
  }
 },
 "nbformat": 4,
 "nbformat_minor": 2
}
